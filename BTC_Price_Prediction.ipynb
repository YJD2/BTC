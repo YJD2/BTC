{
 "cells": [
  {
   "cell_type": "code",
   "execution_count": 66,
   "id": "5bd2f943",
   "metadata": {},
   "outputs": [
    {
     "name": "stdout",
     "output_type": "stream",
     "text": [
      "Requirement already satisfied: ccxt in ./opt/anaconda3/lib/python3.9/site-packages (4.4.63)\n",
      "Requirement already satisfied: pandas in ./opt/anaconda3/lib/python3.9/site-packages (1.4.2)\n",
      "Requirement already satisfied: numpy in ./opt/anaconda3/lib/python3.9/site-packages (1.26.4)\n",
      "Requirement already satisfied: matplotlib in ./opt/anaconda3/lib/python3.9/site-packages (3.5.1)\n",
      "Requirement already satisfied: tensorflow in ./opt/anaconda3/lib/python3.9/site-packages (2.10.0)\n",
      "Requirement already satisfied: aiohttp<=3.10.11 in ./opt/anaconda3/lib/python3.9/site-packages (from ccxt) (3.8.1)\n",
      "Requirement already satisfied: aiodns>=1.1.1 in ./opt/anaconda3/lib/python3.9/site-packages (from ccxt) (3.2.0)\n",
      "Requirement already satisfied: typing-extensions>=4.4.0 in ./opt/anaconda3/lib/python3.9/site-packages (from ccxt) (4.12.2)\n",
      "Requirement already satisfied: cryptography>=2.6.1 in ./opt/anaconda3/lib/python3.9/site-packages (from ccxt) (3.4.8)\n",
      "Requirement already satisfied: certifi>=2018.1.18 in ./opt/anaconda3/lib/python3.9/site-packages (from ccxt) (2021.10.8)\n",
      "Requirement already satisfied: setuptools>=60.9.0 in ./opt/anaconda3/lib/python3.9/site-packages (from ccxt) (61.2.0)\n",
      "Requirement already satisfied: requests>=2.18.4 in ./opt/anaconda3/lib/python3.9/site-packages (from ccxt) (2.32.3)\n",
      "Requirement already satisfied: yarl>=1.7.2 in ./opt/anaconda3/lib/python3.9/site-packages (from ccxt) (1.18.3)\n",
      "Requirement already satisfied: python-dateutil>=2.8.1 in ./opt/anaconda3/lib/python3.9/site-packages (from pandas) (2.8.2)\n",
      "Requirement already satisfied: pytz>=2020.1 in ./opt/anaconda3/lib/python3.9/site-packages (from pandas) (2024.2)\n",
      "Requirement already satisfied: pillow>=6.2.0 in ./opt/anaconda3/lib/python3.9/site-packages (from matplotlib) (9.0.1)\n",
      "Requirement already satisfied: cycler>=0.10 in ./opt/anaconda3/lib/python3.9/site-packages (from matplotlib) (0.11.0)\n",
      "Requirement already satisfied: packaging>=20.0 in ./opt/anaconda3/lib/python3.9/site-packages (from matplotlib) (21.3)\n",
      "Requirement already satisfied: kiwisolver>=1.0.1 in ./opt/anaconda3/lib/python3.9/site-packages (from matplotlib) (1.3.2)\n",
      "Requirement already satisfied: fonttools>=4.22.0 in ./opt/anaconda3/lib/python3.9/site-packages (from matplotlib) (4.25.0)\n",
      "Requirement already satisfied: pyparsing>=2.2.1 in ./opt/anaconda3/lib/python3.9/site-packages (from matplotlib) (3.0.4)\n",
      "Requirement already satisfied: keras<2.11,>=2.10.0 in ./opt/anaconda3/lib/python3.9/site-packages (from tensorflow) (2.10.0)\n",
      "Requirement already satisfied: wrapt>=1.11.0 in ./opt/anaconda3/lib/python3.9/site-packages (from tensorflow) (1.12.1)\n",
      "Requirement already satisfied: opt-einsum>=2.3.2 in ./opt/anaconda3/lib/python3.9/site-packages (from tensorflow) (3.3.0)\n",
      "Requirement already satisfied: libclang>=13.0.0 in ./opt/anaconda3/lib/python3.9/site-packages (from tensorflow) (14.0.6)\n",
      "Requirement already satisfied: tensorflow-estimator<2.11,>=2.10.0 in ./opt/anaconda3/lib/python3.9/site-packages (from tensorflow) (2.10.0)\n",
      "Requirement already satisfied: h5py>=2.9.0 in ./opt/anaconda3/lib/python3.9/site-packages (from tensorflow) (3.6.0)\n",
      "Requirement already satisfied: protobuf<3.20,>=3.9.2 in ./opt/anaconda3/lib/python3.9/site-packages (from tensorflow) (3.19.1)\n",
      "Requirement already satisfied: absl-py>=1.0.0 in ./opt/anaconda3/lib/python3.9/site-packages (from tensorflow) (1.2.0)\n",
      "Requirement already satisfied: grpcio<2.0,>=1.24.3 in ./opt/anaconda3/lib/python3.9/site-packages (from tensorflow) (1.42.0)\n",
      "Requirement already satisfied: flatbuffers>=2.0 in ./opt/anaconda3/lib/python3.9/site-packages (from tensorflow) (2.0.7)\n",
      "Requirement already satisfied: gast<=0.4.0,>=0.2.1 in ./opt/anaconda3/lib/python3.9/site-packages (from tensorflow) (0.4.0)\n",
      "Requirement already satisfied: google-pasta>=0.1.1 in ./opt/anaconda3/lib/python3.9/site-packages (from tensorflow) (0.2.0)\n",
      "Requirement already satisfied: tensorboard<2.11,>=2.10 in ./opt/anaconda3/lib/python3.9/site-packages (from tensorflow) (2.10.0)\n",
      "Requirement already satisfied: tensorflow-io-gcs-filesystem>=0.23.1 in ./opt/anaconda3/lib/python3.9/site-packages (from tensorflow) (0.26.0)\n",
      "Requirement already satisfied: keras-preprocessing>=1.1.1 in ./opt/anaconda3/lib/python3.9/site-packages (from tensorflow) (1.1.2)\n",
      "Requirement already satisfied: six>=1.12.0 in ./opt/anaconda3/lib/python3.9/site-packages (from tensorflow) (1.16.0)\n",
      "Requirement already satisfied: termcolor>=1.1.0 in ./opt/anaconda3/lib/python3.9/site-packages (from tensorflow) (1.1.0)\n",
      "Requirement already satisfied: astunparse>=1.6.0 in ./opt/anaconda3/lib/python3.9/site-packages (from tensorflow) (1.6.3)\n",
      "Requirement already satisfied: pycares>=4.0.0 in ./opt/anaconda3/lib/python3.9/site-packages (from aiodns>=1.1.1->ccxt) (4.5.0)\n",
      "Requirement already satisfied: charset-normalizer<3.0,>=2.0 in ./opt/anaconda3/lib/python3.9/site-packages (from aiohttp<=3.10.11->ccxt) (2.0.4)\n",
      "Requirement already satisfied: multidict<7.0,>=4.5 in ./opt/anaconda3/lib/python3.9/site-packages (from aiohttp<=3.10.11->ccxt) (5.2.0)\n",
      "Requirement already satisfied: async-timeout<5.0,>=4.0.0a3 in ./opt/anaconda3/lib/python3.9/site-packages (from aiohttp<=3.10.11->ccxt) (4.0.1)\n",
      "Requirement already satisfied: aiosignal>=1.1.2 in ./opt/anaconda3/lib/python3.9/site-packages (from aiohttp<=3.10.11->ccxt) (1.2.0)\n",
      "Requirement already satisfied: attrs>=17.3.0 in ./opt/anaconda3/lib/python3.9/site-packages (from aiohttp<=3.10.11->ccxt) (25.1.0)\n",
      "Requirement already satisfied: frozenlist>=1.1.1 in ./opt/anaconda3/lib/python3.9/site-packages (from aiohttp<=3.10.11->ccxt) (1.2.0)\n",
      "Requirement already satisfied: wheel<1.0,>=0.23.0 in ./opt/anaconda3/lib/python3.9/site-packages (from astunparse>=1.6.0->tensorflow) (0.37.1)\n",
      "Requirement already satisfied: cffi>=1.12 in ./opt/anaconda3/lib/python3.9/site-packages (from cryptography>=2.6.1->ccxt) (1.15.0)\n",
      "Requirement already satisfied: pycparser in ./opt/anaconda3/lib/python3.9/site-packages (from cffi>=1.12->cryptography>=2.6.1->ccxt) (2.21)\n",
      "Requirement already satisfied: urllib3<3,>=1.21.1 in ./opt/anaconda3/lib/python3.9/site-packages (from requests>=2.18.4->ccxt) (1.26.9)\n",
      "Requirement already satisfied: idna<4,>=2.5 in ./opt/anaconda3/lib/python3.9/site-packages (from requests>=2.18.4->ccxt) (3.3)\n",
      "Requirement already satisfied: tensorboard-plugin-wit>=1.6.0 in ./opt/anaconda3/lib/python3.9/site-packages (from tensorboard<2.11,>=2.10->tensorflow) (1.8.1)\n",
      "Requirement already satisfied: werkzeug>=1.0.1 in ./opt/anaconda3/lib/python3.9/site-packages (from tensorboard<2.11,>=2.10->tensorflow) (2.0.3)\n",
      "Requirement already satisfied: tensorboard-data-server<0.7.0,>=0.6.0 in ./opt/anaconda3/lib/python3.9/site-packages (from tensorboard<2.11,>=2.10->tensorflow) (0.6.1)\n",
      "Requirement already satisfied: google-auth<3,>=1.6.3 in ./opt/anaconda3/lib/python3.9/site-packages (from tensorboard<2.11,>=2.10->tensorflow) (1.33.0)\n",
      "Requirement already satisfied: markdown>=2.6.8 in ./opt/anaconda3/lib/python3.9/site-packages (from tensorboard<2.11,>=2.10->tensorflow) (3.3.4)\n",
      "Requirement already satisfied: google-auth-oauthlib<0.5,>=0.4.1 in ./opt/anaconda3/lib/python3.9/site-packages (from tensorboard<2.11,>=2.10->tensorflow) (0.4.6)\n",
      "Requirement already satisfied: rsa<5,>=3.1.4 in ./opt/anaconda3/lib/python3.9/site-packages (from google-auth<3,>=1.6.3->tensorboard<2.11,>=2.10->tensorflow) (4.7.2)\n",
      "Requirement already satisfied: pyasn1-modules>=0.2.1 in ./opt/anaconda3/lib/python3.9/site-packages (from google-auth<3,>=1.6.3->tensorboard<2.11,>=2.10->tensorflow) (0.2.8)\n",
      "Requirement already satisfied: cachetools<5.0,>=2.0.0 in ./opt/anaconda3/lib/python3.9/site-packages (from google-auth<3,>=1.6.3->tensorboard<2.11,>=2.10->tensorflow) (4.2.2)\n",
      "Requirement already satisfied: requests-oauthlib>=0.7.0 in ./opt/anaconda3/lib/python3.9/site-packages (from google-auth-oauthlib<0.5,>=0.4.1->tensorboard<2.11,>=2.10->tensorflow) (1.3.1)\n",
      "Requirement already satisfied: pyasn1<0.5.0,>=0.4.6 in ./opt/anaconda3/lib/python3.9/site-packages (from pyasn1-modules>=0.2.1->google-auth<3,>=1.6.3->tensorboard<2.11,>=2.10->tensorflow) (0.4.8)\n",
      "Requirement already satisfied: oauthlib>=3.0.0 in ./opt/anaconda3/lib/python3.9/site-packages (from requests-oauthlib>=0.7.0->google-auth-oauthlib<0.5,>=0.4.1->tensorboard<2.11,>=2.10->tensorflow) (3.2.0)\n"
     ]
    },
    {
     "name": "stdout",
     "output_type": "stream",
     "text": [
      "Requirement already satisfied: propcache>=0.2.0 in ./opt/anaconda3/lib/python3.9/site-packages (from yarl>=1.7.2->ccxt) (0.3.0)\n",
      "Note: you may need to restart the kernel to use updated packages.\n"
     ]
    }
   ],
   "source": [
    "pip install ccxt pandas numpy matplotlib tensorflow"
   ]
  },
  {
   "cell_type": "code",
   "execution_count": 67,
   "id": "96e6f4c9",
   "metadata": {},
   "outputs": [
    {
     "name": "stdout",
     "output_type": "stream",
     "text": [
      "             timestamp      open      high       low     close     volume\n",
      "95 2025-02-27 19:36:00  83849.50  83865.07  83701.51  83865.06   88.77447\n",
      "96 2025-02-27 19:39:00  83865.07  83931.49  83728.62  83808.35  114.20449\n",
      "97 2025-02-27 19:42:00  83808.36  83953.60  83720.00  83938.01   69.44147\n",
      "98 2025-02-27 19:45:00  83937.33  84110.36  83917.04  84003.03   73.20448\n",
      "99 2025-02-27 19:48:00  84003.02  84003.03  84003.02  84003.03    0.03062\n"
     ]
    }
   ],
   "source": [
    "# Import data from Binance\n",
    "import ccxt\n",
    "import pandas as pd\n",
    "import time\n",
    "\n",
    "# Initialize Binance API\n",
    "binance = ccxt.binance()\n",
    "\n",
    "def fetch_binance_data(symbol='BTC/USDT', timeframe='3m', limit=100):\n",
    "    \"\"\"Fetch historical OHLCV i.e. \"Open\" \"High\" \"Low\" \"Close\" and \"Volume\" data from Binance\"\"\"\n",
    "    bars = binance.fetch_ohlcv(symbol, timeframe, limit=limit)\n",
    "    df = pd.DataFrame(bars, columns=['timestamp', 'open', 'high', 'low', 'close', 'volume'])\n",
    "    df['timestamp'] = pd.to_datetime(df['timestamp'], unit='ms')\n",
    "    return df\n",
    "\n",
    "# Fetch & display data\n",
    "btc_data = fetch_binance_data()\n",
    "print(btc_data.tail())"
   ]
  },
  {
   "cell_type": "code",
   "execution_count": 68,
   "id": "4ab24597",
   "metadata": {},
   "outputs": [
    {
     "name": "stdout",
     "output_type": "stream",
     "text": [
      "             timestamp      open      high       low     close     volume  \\\n",
      "95 2025-02-27 19:36:00  83849.50  83865.07  83701.51  83865.06   88.77447   \n",
      "96 2025-02-27 19:39:00  83865.07  83931.49  83728.62  83808.35  114.20449   \n",
      "97 2025-02-27 19:42:00  83808.36  83953.60  83720.00  83938.01   69.44147   \n",
      "98 2025-02-27 19:45:00  83937.33  84110.36  83917.04  84003.03   73.20448   \n",
      "99 2025-02-27 19:48:00  84003.02  84003.03  84003.02  84003.03    0.03062   \n",
      "\n",
      "          RSI     SMA_10      SMA_50  \n",
      "95  21.271993  84086.406  84543.1910  \n",
      "96  22.713642  84027.443  84527.0510  \n",
      "97  31.065552  83996.696  84513.3888  \n",
      "98  37.698313  83978.999  84500.4968  \n",
      "99  36.125265  83945.430  84489.8644  \n"
     ]
    }
   ],
   "source": [
    "import numpy as np\n",
    "\n",
    "def add_indicators(df):\n",
    "    \"\"\"Compute technical indicators like RSI (Relative Strength Index) and Moving Averages\"\"\"\n",
    "    df['SMA_10'] = df['close'].rolling(window=10).mean()\n",
    "    df['SMA_50'] = df['close'].rolling(window=50).mean()\n",
    "    return df\n",
    "    \n",
    "def compute_rsi(series, period=14):\n",
    "    delta = series.diff()  # Price change between consecutive time steps\n",
    "    gain = (delta.where(delta > 0, 0)).rolling(window=period).mean()\n",
    "    loss = (-delta.where(delta < 0, 0)).rolling(window=period).mean()\n",
    "    rs = gain / loss\n",
    "    rsi = 100 - (100 / (1 + rs))\n",
    "    return rsi\n",
    "\n",
    "btc_data['RSI'] = compute_rsi(btc_data['close'])\n",
    "\n",
    "btc_data = add_indicators(btc_data)\n",
    "print(btc_data.tail())\n",
    "\n"
   ]
  },
  {
   "cell_type": "code",
   "execution_count": 69,
   "id": "8ebae0c0",
   "metadata": {},
   "outputs": [],
   "source": [
    "import tensorflow as tf\n",
    "from tensorflow.keras.models import Sequential\n",
    "from tensorflow.keras.layers import LSTM, Dense"
   ]
  },
  {
   "cell_type": "code",
   "execution_count": 70,
   "id": "ccfe9b78",
   "metadata": {},
   "outputs": [],
   "source": [
    "# Prepare dataset\n",
    "def prepare_data(df):\n",
    "    data = df[['close', 'SMA_10', 'SMA_50', 'RSI']].dropna().values\n",
    "    X, y = [], []\n",
    "    for i in range(10, len(data)):\n",
    "        X.append(data[i-10:i])\n",
    "        y.append(data[i][0])  # Predict next closing price\n",
    "    return np.array(X), np.array(y)\n",
    "\n",
    "X, y = prepare_data(btc_data)"
   ]
  },
  {
   "cell_type": "code",
   "execution_count": 71,
   "id": "0871276b",
   "metadata": {},
   "outputs": [
    {
     "name": "stdout",
     "output_type": "stream",
     "text": [
      "Epoch 1/10\n",
      "3/3 [==============================] - 2s 15ms/step - loss: 7133449728.0000\n",
      "Epoch 2/10\n",
      "3/3 [==============================] - 0s 10ms/step - loss: 7133372416.0000\n",
      "Epoch 3/10\n",
      "3/3 [==============================] - 0s 10ms/step - loss: 7133289984.0000\n",
      "Epoch 4/10\n",
      "3/3 [==============================] - 0s 8ms/step - loss: 7133199360.0000\n",
      "Epoch 5/10\n",
      "3/3 [==============================] - 0s 8ms/step - loss: 7133095936.0000\n",
      "Epoch 6/10\n",
      "3/3 [==============================] - 0s 9ms/step - loss: 7132978176.0000\n",
      "Epoch 7/10\n",
      "3/3 [==============================] - 0s 8ms/step - loss: 7132848128.0000\n",
      "Epoch 8/10\n",
      "3/3 [==============================] - 0s 8ms/step - loss: 7132715008.0000\n",
      "Epoch 9/10\n",
      "3/3 [==============================] - 0s 8ms/step - loss: 7132589568.0000\n",
      "Epoch 10/10\n",
      "3/3 [==============================] - 0s 7ms/step - loss: 7132474880.0000\n"
     ]
    },
    {
     "data": {
      "text/plain": [
       "<keras.callbacks.History at 0x7f8c3905aac0>"
      ]
     },
     "execution_count": 71,
     "metadata": {},
     "output_type": "execute_result"
    }
   ],
   "source": [
    "# Build LSTM Model\n",
    "model = Sequential([\n",
    "    LSTM(50, return_sequences=True, input_shape=(X.shape[1], X.shape[2])),\n",
    "    LSTM(50),\n",
    "    Dense(1)\n",
    "])\n",
    "model.compile(optimizer='adam', loss='mse')\n",
    "\n",
    "# Train model\n",
    "model.fit(X, y, epochs=10, batch_size=16)\n"
   ]
  },
  {
   "cell_type": "code",
   "execution_count": 72,
   "id": "7adea53e",
   "metadata": {},
   "outputs": [],
   "source": [
    "import numpy as np\n",
    "import pandas as pd\n",
    "import matplotlib.pyplot as plt\n",
    "from sklearn.preprocessing import MinMaxScaler\n",
    "import tensorflow as tf\n",
    "from tensorflow.keras.models import Sequential\n",
    "\n"
   ]
  },
  {
   "cell_type": "code",
   "execution_count": 73,
   "id": "cff33425",
   "metadata": {},
   "outputs": [],
   "source": [
    "# Normalize features for better LSTM performance\n",
    "scaler = MinMaxScaler()\n",
    "\n",
    "# Initialize separate scalers for the close price and technical indicators\n",
    "close_scaler = MinMaxScaler()\n",
    "feature_scaler = MinMaxScaler()\n",
    "\n",
    "# Fit scalers separately\n",
    "btc_data[['close']] = close_scaler.fit_transform(btc_data[['close']])\n",
    "btc_data[['SMA_10', 'SMA_50', 'RSI']] = feature_scaler.fit_transform(btc_data[['SMA_10', 'SMA_50', 'RSI']])\n",
    "\n"
   ]
  },
  {
   "cell_type": "code",
   "execution_count": 74,
   "id": "99460be7",
   "metadata": {},
   "outputs": [],
   "source": [
    "# Prepare dataset for LSTM\n",
    "def prepare_data(df):\n",
    "    data = df[['close', 'SMA_10', 'SMA_50', 'RSI']].dropna().values\n",
    "    X, y = [], []\n",
    "    for i in range(10, len(data)):\n",
    "        X.append(data[i-10:i])  # Use past 10 timesteps as input\n",
    "        y.append(data[i][0])  # Predict next closing price\n",
    "    return np.array(X), np.array(y)"
   ]
  },
  {
   "cell_type": "code",
   "execution_count": 75,
   "id": "831b170c",
   "metadata": {},
   "outputs": [
    {
     "name": "stdout",
     "output_type": "stream",
     "text": [
      "X shape: (41, 10, 4)\n",
      "y shape: (41,)\n"
     ]
    }
   ],
   "source": [
    "X, y = prepare_data(btc_data)\n",
    "\n",
    "# Reshape data for LSTM input format (samples, timesteps, features)\n",
    "X = X.reshape(X.shape[0], X.shape[1], X.shape[2])\n",
    "\n",
    "print(\"X shape:\", X.shape)\n",
    "print(\"y shape:\", y.shape)"
   ]
  },
  {
   "cell_type": "code",
   "execution_count": 76,
   "id": "330fd264",
   "metadata": {},
   "outputs": [],
   "source": [
    "# Build LSTM Model\n",
    "model = Sequential([\n",
    "    LSTM(50, return_sequences=True, input_shape=(X.shape[1], X.shape[2])),\n",
    "    LSTM(50, return_sequences=False),\n",
    "    Dense(25, activation='relu'),  # Extra dense layer for better learning\n",
    "    Dense(1)  # Output layer predicting the next close price\n",
    "])\n",
    "\n",
    "model.compile(optimizer='adam', loss='mse')\n"
   ]
  },
  {
   "cell_type": "code",
   "execution_count": 77,
   "id": "2e110e96",
   "metadata": {},
   "outputs": [
    {
     "name": "stdout",
     "output_type": "stream",
     "text": [
      "Epoch 1/10\n",
      "3/3 [==============================] - 3s 289ms/step - loss: 0.1249 - val_loss: 0.0026\n",
      "Epoch 2/10\n",
      "3/3 [==============================] - 0s 24ms/step - loss: 0.0436 - val_loss: 0.0051\n",
      "Epoch 3/10\n",
      "3/3 [==============================] - 0s 20ms/step - loss: 0.0121 - val_loss: 0.0202\n",
      "Epoch 4/10\n",
      "3/3 [==============================] - 0s 16ms/step - loss: 0.0192 - val_loss: 0.0244\n",
      "Epoch 5/10\n",
      "3/3 [==============================] - 0s 19ms/step - loss: 0.0194 - val_loss: 0.0163\n",
      "Epoch 6/10\n",
      "3/3 [==============================] - 0s 21ms/step - loss: 0.0098 - val_loss: 0.0092\n",
      "Epoch 7/10\n",
      "3/3 [==============================] - 0s 21ms/step - loss: 0.0087 - val_loss: 0.0062\n",
      "Epoch 8/10\n",
      "3/3 [==============================] - 0s 21ms/step - loss: 0.0116 - val_loss: 0.0054\n",
      "Epoch 9/10\n",
      "3/3 [==============================] - 0s 20ms/step - loss: 0.0121 - val_loss: 0.0061\n",
      "Epoch 10/10\n",
      "3/3 [==============================] - 0s 19ms/step - loss: 0.0102 - val_loss: 0.0079\n"
     ]
    }
   ],
   "source": [
    "# Train model\n",
    "history = model.fit(X, y, epochs=10, batch_size=16, validation_split=0.1, verbose=1)\n"
   ]
  },
  {
   "cell_type": "code",
   "execution_count": 78,
   "id": "1a671dfe",
   "metadata": {},
   "outputs": [
    {
     "name": "stdout",
     "output_type": "stream",
     "text": [
      "2/2 [==============================] - 1s 4ms/step\n"
     ]
    }
   ],
   "source": [
    "# Predict on full dataset\n",
    "predictions = model.predict(X)\n",
    "\n"
   ]
  },
  {
   "cell_type": "code",
   "execution_count": 79,
   "id": "9d6c61a1",
   "metadata": {},
   "outputs": [],
   "source": [
    "# Inverse transform to get real prices\n",
    "btc_data['Predicted_Close'] = np.nan  # Initialize column\n",
    "\n",
    "btc_data.iloc[-len(predictions):, btc_data.columns.get_loc('Predicted_Close')] = close_scaler.inverse_transform(\n",
    "    predictions.reshape(-1, 1)  # Reshape for scaler\n",
    ")[:, 0]  # Extract first column (Predicted Close)\n"
   ]
  },
  {
   "cell_type": "code",
   "execution_count": 80,
   "id": "95b8f62f",
   "metadata": {},
   "outputs": [
    {
     "data": {
      "image/png": "[encoded data removed]",
      "text/plain": [
       "<Figure size 864x432 with 1 Axes>"
      ]
     },
     "metadata": {
      "needs_background": "light"
     },
     "output_type": "display_data"
    }
   ],
   "source": [
    "# Inverse transform actual close prices before plotting\n",
    "btc_data['Actual_Close'] = close_scaler.inverse_transform(\n",
    "    btc_data[['close']]\n",
    ")\n",
    "\n",
    "# Plot actual vs. predicted prices\n",
    "plt.figure(figsize=(12, 6))\n",
    "plt.plot(btc_data['timestamp'], btc_data['Actual_Close'], label=\"Actual Close Price\", color='blue')\n",
    "plt.plot(btc_data['timestamp'], btc_data['Predicted_Close'], label=\"Predicted Close Price\", color='red')\n",
    "plt.xlabel(\"Date\")\n",
    "plt.ylabel(\"Bitcoin Price (USD)\")\n",
    "plt.legend()\n",
    "plt.title(\"Bitcoin Price Prediction with LSTM\")\n",
    "plt.show()\n"
   ]
  },
  {
   "cell_type": "code",
   "execution_count": 81,
   "id": "91ba251e",
   "metadata": {},
   "outputs": [],
   "source": [
    "def predict_next_price(model, last_10_steps):\n",
    "    \"\"\"Predict Bitcoin price using the last 10 observations.\"\"\"\n",
    "    last_10_steps = scaler.transform(last_10_steps)  # Normalize\n",
    "    last_10_steps = last_10_steps.reshape(1, last_10_steps.shape[0], last_10_steps.shape[1])  # Reshape\n",
    "    predicted_price = model.predict(last_10_steps)\n",
    "    return scaler.inverse_transform(\n",
    "        np.column_stack((predicted_price, np.zeros((1, 3))))\n",
    "    )[0, 0]  # Extract first column"
   ]
  },
  {
   "cell_type": "code",
   "execution_count": 82,
   "id": "461f51ae",
   "metadata": {},
   "outputs": [],
   "source": [
    "# Get last 10 time steps\n",
    "last_10_steps = btc_data[['close', 'SMA_10', 'SMA_50', 'RSI']].dropna().values[-10:]\n"
   ]
  },
  {
   "cell_type": "code",
   "execution_count": 83,
   "id": "5581e672",
   "metadata": {},
   "outputs": [],
   "source": [
    "def predict_next_price(model, btc_data, close_scaler, feature_scaler):\n",
    "    \"\"\"Predict the next Bitcoin price using the last 10 time steps.\"\"\"\n",
    "\n",
    "    # Select the last 10 time steps for prediction\n",
    "    last_10_steps = btc_data[['close', 'SMA_10', 'SMA_50', 'RSI']].dropna().values[-10:]\n",
    "    \n",
    "    # Separate close price and technical indicators\n",
    "    last_10_close = last_10_steps[:, 0].reshape(-1, 1)  # Extract close price column\n",
    "    last_10_indicators = last_10_steps[:, 1:]  # Extract SMA_10, SMA_50, RSI\n",
    "    \n",
    "    # Scale the close price and indicators separately\n",
    "    last_10_close_scaled = close_scaler.transform(last_10_close)\n",
    "    last_10_indicators_scaled = feature_scaler.transform(last_10_indicators)\n",
    "    \n",
    "    # Combine scaled close price and indicators back into one array\n",
    "    last_10_steps_scaled = np.hstack((last_10_close_scaled, last_10_indicators_scaled))\n",
    "\n",
    "    # Reshape for LSTM model (samples=1, timesteps=10, features=4)\n",
    "    last_10_steps_scaled = last_10_steps_scaled.reshape(1, last_10_steps_scaled.shape[0], last_10_steps_scaled.shape[1])\n",
    "    \n",
    "    # Predict next normalized closing price\n",
    "    predicted_price_normalized = model.predict(last_10_steps_scaled)\n",
    "    \n",
    "    # Inverse transform the predicted price to the original scale\n",
    "    predicted_price_actual = close_scaler.inverse_transform(\n",
    "        predicted_price_normalized.reshape(-1, 1)  # Reshape for scaler\n",
    "    )[0, 0]  # Extract the first value\n",
    "\n",
    "    return predicted_price_actual\n",
    "\n"
   ]
  },
  {
   "cell_type": "code",
   "execution_count": 84,
   "id": "090a79fe",
   "metadata": {},
   "outputs": [
    {
     "name": "stdout",
     "output_type": "stream",
     "text": [
      "1/1 [==============================] - 0s 20ms/step\n",
      "🚀 Predicted Next Bitcoin Price: $82847.13\n"
     ]
    },
    {
     "name": "stderr",
     "output_type": "stream",
     "text": [
      "/Users/admin/opt/anaconda3/lib/python3.9/site-packages/sklearn/base.py:450: UserWarning: X does not have valid feature names, but MinMaxScaler was fitted with feature names\n",
      "  warnings.warn(\n",
      "/Users/admin/opt/anaconda3/lib/python3.9/site-packages/sklearn/base.py:450: UserWarning: X does not have valid feature names, but MinMaxScaler was fitted with feature names\n",
      "  warnings.warn(\n"
     ]
    }
   ],
   "source": [
    "next_price = predict_next_price(model, btc_data, close_scaler, feature_scaler)\n",
    "print(f\"🚀 Predicted Next Bitcoin Price: ${next_price:.2f}\")"
   ]
  },
  {
   "cell_type": "code",
   "execution_count": null,
   "id": "cd580d24",
   "metadata": {},
   "outputs": [],
   "source": []
  }
 ],
 "metadata": {
  "kernelspec": {
   "display_name": "Python 3 (ipykernel)",
   "language": "python",
   "name": "python3"
  },
  "language_info": {
   "codemirror_mode": {
    "name": "ipython",
    "version": 3
   },
   "file_extension": ".py",
   "mimetype": "text/x-python",
   "name": "python",
   "nbconvert_exporter": "python",
   "pygments_lexer": "ipython3",
   "version": "3.9.12"
  }
 },
 "nbformat": 4,
 "nbformat_minor": 5
}
